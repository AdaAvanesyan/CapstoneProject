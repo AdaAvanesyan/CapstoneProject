{
  "nbformat": 4,
  "nbformat_minor": 0,
  "metadata": {
    "colab": {
      "provenance": []
    },
    "kernelspec": {
      "name": "python3",
      "display_name": "Python 3"
    },
    "language_info": {
      "name": "python"
    }
  },
  "cells": [
    {
      "cell_type": "code",
      "execution_count": null,
      "metadata": {
        "id": "Kuvcfb7KtIyJ"
      },
      "outputs": [],
      "source": [
        "\"\"\"\n",
        "Evaluate Trained XGBoost Model\n",
        "\n",
        "This script:\n",
        "- Loads saved XGBoost model, features, and labels\n",
        "- Loads label encoder to decode predictions\n",
        "- Evaluates performance on test set\n",
        "- Displays classification report and confusion matrix\n",
        "\n",
        "Author: Your Name\n",
        "\"\"\"\n",
        "\n",
        "# 📦 Imports\n",
        "import numpy as np\n",
        "import joblib\n",
        "import matplotlib.pyplot as plt\n",
        "import seaborn as sns\n",
        "from sklearn.metrics import classification_report, confusion_matrix\n",
        "from sklearn.model_selection import train_test_split\n",
        "\n",
        "# ✅ Paths\n",
        "X_PATH = \"/content/drive/MyDrive/capstone_data/x_xgb_features.npy\"\n",
        "Y_PATH = \"/content/drive/MyDrive/capstone_data/y_xgb_labels.npy\"\n",
        "MODEL_PATH = \"/content/drive/MyDrive/capstone_data/xgb_model.joblib\"\n",
        "ENCODER_PATH = \"/content/drive/MyDrive/capstone_data/label_encoder.pkl\"\n",
        "\n",
        "# ✅ Load Data & Model\n",
        "X = np.load(X_PATH)\n",
        "y = np.load(Y_PATH)\n",
        "model = joblib.load(MODEL_PATH)\n",
        "label_encoder = joblib.load(ENCODER_PATH)\n",
        "\n",
        "# ✅ Split (same as training)\n",
        "X_train, X_test, y_train, y_test = train_test_split(\n",
        "    X, y, test_size=0.2, stratify=y, random_state=42\n",
        ")\n",
        "\n",
        "# ✅ Predict\n",
        "y_pred = model.predict(X_test)\n",
        "\n",
        "# ✅ Decode labels\n",
        "y_pred_labels = label_encoder.inverse_transform(y_pred)\n",
        "y_true_labels = label_encoder.inverse_transform(y_test)\n",
        "\n",
        "# ✅ Classification Report\n",
        "print(\"📋 Classification Report:\\n\")\n",
        "print(classification_report(y_true_labels, y_pred_labels))\n",
        "\n",
        "# ✅ Confusion Matrix\n",
        "cm = confusion_matrix(y_true_labels, y_pred_labels, labels=label_encoder.classes_)\n",
        "\n",
        "# ✅ Plotting\n",
        "plt.figure(figsize=(6, 5))\n",
        "sns.heatmap(cm, annot=True, fmt='d', cmap='Blues',\n",
        "            xticklabels=label_encoder.classes_,\n",
        "            yticklabels=label_encoder.classes_)\n",
        "plt.title(\"Confusion Matrix – XGBoost\")\n",
        "plt.xlabel(\"Predicted\")\n",
        "plt.ylabel(\"Actual\")\n",
        "plt.tight_layout()\n",
        "plt.show()"
      ]
    }
  ]
}