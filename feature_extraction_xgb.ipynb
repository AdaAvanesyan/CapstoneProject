{
  "nbformat": 4,
  "nbformat_minor": 0,
  "metadata": {
    "colab": {
      "provenance": []
    },
    "kernelspec": {
      "name": "python3",
      "display_name": "Python 3"
    },
    "language_info": {
      "name": "python"
    }
  },
  "cells": [
    {
      "cell_type": "code",
      "source": [
        "# ================================\n",
        "# Feature Extraction for XGBoost (Flattened MFCCs)\n",
        "# ================================\n",
        "\n",
        "#  Imports\n",
        "import pandas as pd\n",
        "import numpy as np\n",
        "import librosa\n",
        "import os\n",
        "from sklearn.preprocessing import LabelEncoder\n",
        "import joblib\n",
        "\n",
        "#  Config\n",
        "METADATA_PATH = \"/content/drive/MyDrive/capstone_data/combined_clean_metadata.csv\"\n",
        "X_SAVE_PATH = \"/content/drive/MyDrive/capstone_data/x_xgb_features.npy\"\n",
        "Y_SAVE_PATH = \"/content/drive/MyDrive/capstone_data/y_xgb_labels.npy\"\n",
        "ENCODER_PATH = \"/content/drive/MyDrive/capstone_data/label_encoder.pkl\"\n",
        "MAX_PAD_LEN = 174  # ~4 seconds of audio\n",
        "\n",
        "# Load metadata\n",
        "df = pd.read_csv(METADATA_PATH)\n",
        "print(f\"[INFO] Loaded metadata: {df.shape[0]} rows\")\n",
        "\n",
        "# Feature extraction function\n",
        "def extract_flat_mfcc(file_path, max_pad_len=174):\n",
        "    try:\n",
        "        audio, sr = librosa.load(file_path)\n",
        "        mfcc = librosa.feature.mfcc(y=audio, sr=sr, n_mfcc=40)\n",
        "        pad_width = max_pad_len - mfcc.shape[1]\n",
        "        if pad_width > 0:\n",
        "            mfcc = np.pad(mfcc, ((0, 0), (0, pad_width)), mode='constant')\n",
        "        else:\n",
        "            mfcc = mfcc[:, :max_pad_len]\n",
        "        return mfcc.flatten()\n",
        "    except Exception as e:\n",
        "        print(f\"[WARN] Skipped file {file_path}: {e}\")\n",
        "        return None\n",
        "\n",
        "#  Extract features\n",
        "X = []\n",
        "y = []\n",
        "\n",
        "for idx, row in df.iterrows():\n",
        "    features = extract_flat_mfcc(row['file_path'], MAX_PAD_LEN)\n",
        "    if features is not None:\n",
        "        X.append(features)\n",
        "        y.append(row['emotion'])\n",
        "\n",
        "X = np.array(X)\n",
        "y = np.array(y)\n",
        "\n",
        "print(f\"[INFO] Extracted features: X shape = {X.shape}, y shape = {y.shape}\")\n",
        "\n",
        "# Encode labels\n",
        "le = LabelEncoder()\n",
        "y_encoded = le.fit_transform(y)\n",
        "\n",
        "#  Save features and encoder\n",
        "np.save(X_SAVE_PATH, X)\n",
        "np.save(Y_SAVE_PATH, y_encoded)\n",
        "joblib.dump(le, ENCODER_PATH)\n",
        "\n",
        "print(f\"[✅] Features saved to: {X_SAVE_PATH}\")\n",
        "print(f\"[✅] Labels saved to: {Y_SAVE_PATH}\")\n",
        "print(f\"[✅] Label encoder saved to: {ENCODER_PATH}\")\n",
        "print(f\"[INFO] Classes: {le.classes_}\")"
      ],
      "metadata": {
        "colab": {
          "base_uri": "https://localhost:8080/"
        },
        "id": "8ZiScfyxYaTg",
        "outputId": "c66bf741-2579-4fca-ac9b-5dd862c5cc99"
      },
      "execution_count": 15,
      "outputs": [
        {
          "output_type": "stream",
          "name": "stdout",
          "text": [
            "[INFO] Loaded metadata: 6244 rows\n",
            "[INFO] Extracted features: X shape = (6244, 6960), y shape = (6244,)\n",
            "[✅] Features saved to: /content/drive/MyDrive/capstone_data/x_xgb_features.npy\n",
            "[✅] Labels saved to: /content/drive/MyDrive/capstone_data/y_xgb_labels.npy\n",
            "[✅] Label encoder saved to: /content/drive/MyDrive/capstone_data/label_encoder.pkl\n",
            "[INFO] Classes: ['angry' 'happy' 'neutral' 'sad']\n"
          ]
        }
      ]
    }
  ]
}